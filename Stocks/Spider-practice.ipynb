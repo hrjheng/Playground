{
 "cells": [
  {
   "cell_type": "code",
   "execution_count": 1,
   "metadata": {},
   "outputs": [],
   "source": [
    "import requests\n",
    "from bs4 import BeautifulSoup\n",
    "import pandas as pd\n",
    "import html5lib"
   ]
  },
  {
   "cell_type": "code",
   "execution_count": 2,
   "metadata": {},
   "outputs": [
    {
     "data": {
      "text/plain": [
       "'<!doctype html>\\n<html>\\n<head>\\n    <title>Example Domain</title>\\n\\n    <meta charset=\"utf-8\" />\\n    <meta http-equiv=\"Content-type\" content=\"text/html; charset=utf-8\" />\\n    <meta name=\"viewport\" content=\"width=device-width, initial-scale=1\" />\\n    <style type=\"text/css\">\\n    body {\\n        background-color: #f0f0f2;\\n        margin: 0;\\n        padding: 0;\\n        font-family: -apple-system, system-ui, BlinkMacSystemFont, \"Segoe UI\", \"Open Sans\", \"Helvetica Neue\", Helvetica, Arial, sans-serif;\\n        \\n    }\\n    div {\\n        width: 600px;\\n        margin: 5em auto;\\n        padding: 2em;\\n        background-color: #fdfdff;\\n        border-radius: 0.5em;\\n        box-shadow: 2px 3px 7px 2px rgba(0,0,0,0.02);\\n    }\\n    a:link, a:visited {\\n        color: #38488f;\\n        text-decoration: none;\\n    }\\n    @media (max-width: 700px) {\\n        div {\\n            margin: 0 auto;\\n            width: auto;\\n        }\\n    }\\n    </style>    \\n</head>\\n\\n<body>\\n<div>\\n    <h1>Example Domain</h1>\\n    <p>This domain is for use in illustrative examples in documents. You may use this\\n    domain in literature without prior coordination or asking for permission.</p>\\n    <p><a href=\"https://www.iana.org/domains/example\">More information...</a></p>\\n</div>\\n</body>\\n</html>\\n'"
      ]
     },
     "execution_count": 2,
     "metadata": {},
     "output_type": "execute_result"
    }
   ],
   "source": [
    "url = 'http://example.com/'\n",
    "r = requests.get(url)\n",
    "r.text"
   ]
  },
  {
   "cell_type": "code",
   "execution_count": 3,
   "metadata": {},
   "outputs": [
    {
     "name": "stdout",
     "output_type": "stream",
     "text": [
      "('<!doctype html>\\n'\n",
      " '<html>\\n'\n",
      " '<head>\\n'\n",
      " '    <title>Example Domain</title>\\n'\n",
      " '\\n'\n",
      " '    <meta charset=\"utf-8\" />\\n'\n",
      " '    <meta http-equiv=\"Content-type\" content=\"text/html; charset=utf-8\" />\\n'\n",
      " '    <meta name=\"viewport\" content=\"width=device-width, initial-scale=1\" />\\n'\n",
      " '    <style type=\"text/css\">\\n'\n",
      " '    body {\\n'\n",
      " '        background-color: #f0f0f2;\\n'\n",
      " '        margin: 0;\\n'\n",
      " '        padding: 0;\\n'\n",
      " '        font-family: -apple-system, system-ui, BlinkMacSystemFont, \"Segoe '\n",
      " 'UI\", \"Open Sans\", \"Helvetica Neue\", Helvetica, Arial, sans-serif;\\n'\n",
      " '        \\n'\n",
      " '    }\\n'\n",
      " '    div {\\n'\n",
      " '        width: 600px;\\n'\n",
      " '        margin: 5em auto;\\n'\n",
      " '        padding: 2em;\\n'\n",
      " '        background-color: #fdfdff;\\n'\n",
      " '        border-radius: 0.5em;\\n'\n",
      " '        box-shadow: 2px 3px 7px 2px rgba(0,0,0,0.02);\\n'\n",
      " '    }\\n'\n",
      " '    a:link, a:visited {\\n'\n",
      " '        color: #38488f;\\n'\n",
      " '        text-decoration: none;\\n'\n",
      " '    }\\n'\n",
      " '    @media (max-width: 700px) {\\n'\n",
      " '        div {\\n'\n",
      " '            margin: 0 auto;\\n'\n",
      " '            width: auto;\\n'\n",
      " '        }\\n'\n",
      " '    }\\n'\n",
      " '    </style>    \\n'\n",
      " '</head>\\n'\n",
      " '\\n'\n",
      " '<body>\\n'\n",
      " '<div>\\n'\n",
      " '    <h1>Example Domain</h1>\\n'\n",
      " '    <p>This domain is for use in illustrative examples in documents. You may '\n",
      " 'use this\\n'\n",
      " '    domain in literature without prior coordination or asking for '\n",
      " 'permission.</p>\\n'\n",
      " '    <p><a href=\"https://www.iana.org/domains/example\">More '\n",
      " 'information...</a></p>\\n'\n",
      " '</div>\\n'\n",
      " '</body>\\n'\n",
      " '</html>\\n')\n"
     ]
    }
   ],
   "source": [
    "import pprint\n",
    "pp = pprint.PrettyPrinter(indent=4)\n",
    "pp.pprint(r.text)"
   ]
  },
  {
   "cell_type": "code",
   "execution_count": 4,
   "metadata": {},
   "outputs": [
    {
     "data": {
      "text/plain": [
       "'This domain is for use in illustrative examples in documents. You may use this\\n    domain in literature without prior coordination or asking for permission.'"
      ]
     },
     "execution_count": 4,
     "metadata": {},
     "output_type": "execute_result"
    }
   ],
   "source": [
    "soup = BeautifulSoup(r.text, 'lxml')\n",
    "soup.select('body div p')[0].text"
   ]
  },
  {
   "cell_type": "code",
   "execution_count": 5,
   "metadata": {},
   "outputs": [
    {
     "data": {
      "text/plain": [
       "'美股指數期貨週四（26 日）走勢相對平淡，投資人聚焦另一系列大型企業財報數字。道瓊工業平均指數期貨上漲 43\\xa0點，標普 500 指數期貨與那斯達克 100 指數期貨分別上漲 3.00\\xa0點與下跌 2.00\\xa0點。\\n推特（Twitter）、福特（Ford）、西南航空（Southwest Airlines）與有線電視及寬頻網絡等供應商康卡斯特（Comcast）等皆於盤前公佈上季財報。其中，推特財報表現優於市場預期，推升股價盤前大漲超過 10% ，福特上季獲利同樣超出華爾街預期，股價盤前上漲 1.5% 。\\n科技界財報重頭戲也即將展開，包括亞馬遜、 Google 母公司\\xa0Alphabet 、英特爾與微軟等，預計於週四美股盤後公佈上季財報數字。\\n央行同時也是週四國際市場的重點，投資人聚焦歐洲央行（European Central Bank）貨幣政策決議，與美國聯準會（U.S. Federal Reserve）下屆主席人選的消息。\\n根據《路透社》近期公佈市場調查，較多的經濟學家預期聯準會理事鮑爾（Jerome Powell）將成為下屆聯準會主席。另外，投資人預期歐洲央行本次會議將宣佈，該央行將開始採取退出極度寬鬆貨幣政策的計畫。\\n'"
      ]
     },
     "execution_count": 5,
     "metadata": {},
     "output_type": "execute_result"
    }
   ],
   "source": [
    "url = 'https://news.cnyes.com/news/id/3949102'\n",
    "r = requests.get(url)\n",
    "soup = BeautifulSoup(r.text, 'lxml')\n",
    "soup.select('div[itemprop=\"articleBody\"]')[0].text"
   ]
  },
  {
   "cell_type": "code",
   "execution_count": 6,
   "metadata": {},
   "outputs": [
    {
     "name": "stderr",
     "output_type": "stream",
     "text": [
      "/usr/local/lib/python3.7/site-packages/urllib3/connectionpool.py:1004: InsecureRequestWarning: Unverified HTTPS request is being made. Adding certificate verification is strongly advised. See: https://urllib3.readthedocs.io/en/latest/advanced-usage.html#ssl-warnings\n",
      "  InsecureRequestWarning,\n",
      "/usr/local/lib/python3.7/site-packages/urllib3/connectionpool.py:1004: InsecureRequestWarning: Unverified HTTPS request is being made. Adding certificate verification is strongly advised. See: https://urllib3.readthedocs.io/en/latest/advanced-usage.html#ssl-warnings\n",
      "  InsecureRequestWarning,\n",
      "/usr/local/lib/python3.7/site-packages/urllib3/connectionpool.py:1004: InsecureRequestWarning: Unverified HTTPS request is being made. Adding certificate verification is strongly advised. See: https://urllib3.readthedocs.io/en/latest/advanced-usage.html#ssl-warnings\n",
      "  InsecureRequestWarning,\n"
     ]
    },
    {
     "name": "stdout",
     "output_type": "stream",
     "text": [
      "12/17 oftisa \n",
      "Re: [新聞] 嫌犯前科累累曾好心被收容 烙重話縱火成\n",
      "\n",
      "12/17 yspen \n",
      "[問卦] 冰與火之歌：權力遊戲為何龍后最後發瘋?\n",
      "\n",
      "12/17 kid33 \n",
      "[新聞] 小確幸！竹市府宣布：低於3萬元臨時人員\n",
      "\n",
      "12/17 tok892xt7 \n",
      "[問卦] 跨年夜是中班該如何調適?\n",
      "\n",
      "12/17 dean1990 \n",
      "[問卦] 天婦羅之冠是哪家啊？\n",
      "\n",
      "12/17 gk1329 \n",
      "Re: [爆卦] 中國小粉紅出征波特王微博啦！\n",
      "\n",
      "12/17 think12381 \n",
      "Re: [新聞] 紐西蘭白島火山爆發 大面積燒傷者跳海逃\n",
      "\n",
      "12/17 patentstm \n",
      "[問卦] Debug太難？波音最新型737MAX停產~\n",
      "\n",
      "12/17 opie \n",
      "[問卦] 請問2330台積電是國民股票嗎?\n",
      "\n",
      "12/17 ottoyu \n",
      "Re: [新聞] 印度示威蔓延全國 警方闖大學圖書館毆打\n",
      "\n",
      "12/17 AGODFATHER \n",
      "Re: [新聞] 債留子孫爛文化非誰的錯　柯文哲轟陳菊：太明顯、太過分\n",
      "\n",
      "12/17 Wardyal \n",
      "[問卦] 管田將輝是不是很厲害？\n",
      "\n",
      "12/17 KingJames56 \n",
      "Re: [新聞] 債留子孫爛文化非誰的錯　柯文哲轟陳菊：太明顯、太過\n",
      "\n",
      "12/17 donation12 \n",
      "Re: [新聞] 債留子孫爛文化非誰的錯　柯文哲轟陳菊：太明顯、太過分\n",
      "\n",
      "12/17 ZMittermeyer \n",
      "Re: [問卦] 法律系是不是越來越慘了?\n",
      "\n",
      "12/17 soulof5566 \n",
      "Re: [問卦] 茶的魔手點什麼才內行？\n",
      "\n",
      "12/17 yuan55226 \n",
      "[問卦] 在台灣的動漫迷有老人嗎？\n",
      "\n",
      "12/17 Kyle5566 \n",
      "[問卦] 欸！情人節沒有愛人怎麼辦？\n",
      "\n",
      "12/17 yspen \n",
      "[問卦] 男生第一次無套中出時，腦袋在想什麼?\n",
      "\n",
      "12/17 hiball \n",
      "[問卦] 台灣大腸癌世界第一？\n",
      "\n",
      " 8/21 arsonlolita \n",
      "[公告] 八卦板板規(2019.08.21)\n",
      "\n",
      "12/08 Amybook \n",
      "協尋12/6台中市向上路往精科五路行車記錄器\n",
      "\n",
      "12/12 ianian23 \n",
      "協詢12/12 新北三重大智路與忠孝路口行車記錄器\n",
      "\n",
      "12/09 sam3030178 \n",
      "［協尋］11/15台中市向上路忠勇路口行車記錄器\n",
      "\n",
      "12/02 Bignana \n",
      "[公告] 一劍無悔，十二月置底閒聊文\n",
      "\n"
     ]
    }
   ],
   "source": [
    "payload = {\n",
    "    'from':'/bbs/Gossiping/index.html',\n",
    "    'yes':'yes'\n",
    "}\n",
    "rs = requests.session()\n",
    "res = rs.post('https://www.ptt.cc/ask/over18', verify=False, data=payload)\n",
    "res = rs.get('https://www.ptt.cc/bbs/Gossiping/index.html', verify=False)\n",
    "soup = BeautifulSoup(res.text, 'lxml')\n",
    "for entry in soup.select('.r-ent'):\n",
    "    print(entry.select('.date')[0].text, entry.select('.author')[0].text, entry.select('.title')[0].text)"
   ]
  },
  {
   "cell_type": "code",
   "execution_count": 9,
   "metadata": {},
   "outputs": [
    {
     "ename": "ValueError",
     "evalue": "No tables found",
     "output_type": "error",
     "traceback": [
      "\u001b[0;31m---------------------------------------------------------------------------\u001b[0m",
      "\u001b[0;31mValueError\u001b[0m                                Traceback (most recent call last)",
      "\u001b[0;32m<ipython-input-9-66902232fb81>\u001b[0m in \u001b[0;36m<module>\u001b[0;34m\u001b[0m\n\u001b[1;32m      2\u001b[0m \u001b[0;31m# df = pd.read_csv(url, header=None, sep='\\n')\u001b[0m\u001b[0;34m\u001b[0m\u001b[0;34m\u001b[0m\u001b[0;34m\u001b[0m\u001b[0m\n\u001b[1;32m      3\u001b[0m \u001b[0;31m# df = df[0].str.split('\\s\\|\\s', expand=True)\u001b[0m\u001b[0;34m\u001b[0m\u001b[0;34m\u001b[0m\u001b[0;34m\u001b[0m\u001b[0m\n\u001b[0;32m----> 4\u001b[0;31m \u001b[0mdf\u001b[0m \u001b[0;34m=\u001b[0m \u001b[0mpd\u001b[0m\u001b[0;34m.\u001b[0m\u001b[0mread_html\u001b[0m\u001b[0;34m(\u001b[0m\u001b[0murl\u001b[0m\u001b[0;34m)\u001b[0m\u001b[0;34m\u001b[0m\u001b[0;34m\u001b[0m\u001b[0m\n\u001b[0m\u001b[1;32m      5\u001b[0m \u001b[0mprint\u001b[0m \u001b[0;34m(\u001b[0m\u001b[0mdf\u001b[0m\u001b[0;34m[\u001b[0m\u001b[0;36m0\u001b[0m\u001b[0;34m]\u001b[0m\u001b[0;34m)\u001b[0m\u001b[0;34m\u001b[0m\u001b[0;34m\u001b[0m\u001b[0m\n",
      "\u001b[0;32m/usr/local/lib/python3.7/site-packages/pandas/io/html.py\u001b[0m in \u001b[0;36mread_html\u001b[0;34m(io, match, flavor, header, index_col, skiprows, attrs, parse_dates, tupleize_cols, thousands, encoding, decimal, converters, na_values, keep_default_na, displayed_only)\u001b[0m\n\u001b[1;32m   1092\u001b[0m                   \u001b[0mdecimal\u001b[0m\u001b[0;34m=\u001b[0m\u001b[0mdecimal\u001b[0m\u001b[0;34m,\u001b[0m \u001b[0mconverters\u001b[0m\u001b[0;34m=\u001b[0m\u001b[0mconverters\u001b[0m\u001b[0;34m,\u001b[0m \u001b[0mna_values\u001b[0m\u001b[0;34m=\u001b[0m\u001b[0mna_values\u001b[0m\u001b[0;34m,\u001b[0m\u001b[0;34m\u001b[0m\u001b[0;34m\u001b[0m\u001b[0m\n\u001b[1;32m   1093\u001b[0m                   \u001b[0mkeep_default_na\u001b[0m\u001b[0;34m=\u001b[0m\u001b[0mkeep_default_na\u001b[0m\u001b[0;34m,\u001b[0m\u001b[0;34m\u001b[0m\u001b[0;34m\u001b[0m\u001b[0m\n\u001b[0;32m-> 1094\u001b[0;31m                   displayed_only=displayed_only)\n\u001b[0m",
      "\u001b[0;32m/usr/local/lib/python3.7/site-packages/pandas/io/html.py\u001b[0m in \u001b[0;36m_parse\u001b[0;34m(flavor, io, match, attrs, encoding, displayed_only, **kwargs)\u001b[0m\n\u001b[1;32m    914\u001b[0m             \u001b[0;32mbreak\u001b[0m\u001b[0;34m\u001b[0m\u001b[0;34m\u001b[0m\u001b[0m\n\u001b[1;32m    915\u001b[0m     \u001b[0;32melse\u001b[0m\u001b[0;34m:\u001b[0m\u001b[0;34m\u001b[0m\u001b[0;34m\u001b[0m\u001b[0m\n\u001b[0;32m--> 916\u001b[0;31m         \u001b[0mraise_with_traceback\u001b[0m\u001b[0;34m(\u001b[0m\u001b[0mretained\u001b[0m\u001b[0;34m)\u001b[0m\u001b[0;34m\u001b[0m\u001b[0;34m\u001b[0m\u001b[0m\n\u001b[0m\u001b[1;32m    917\u001b[0m \u001b[0;34m\u001b[0m\u001b[0m\n\u001b[1;32m    918\u001b[0m     \u001b[0mret\u001b[0m \u001b[0;34m=\u001b[0m \u001b[0;34m[\u001b[0m\u001b[0;34m]\u001b[0m\u001b[0;34m\u001b[0m\u001b[0;34m\u001b[0m\u001b[0m\n",
      "\u001b[0;32m/usr/local/lib/python3.7/site-packages/pandas/compat/__init__.py\u001b[0m in \u001b[0;36mraise_with_traceback\u001b[0;34m(exc, traceback)\u001b[0m\n\u001b[1;32m    418\u001b[0m         \u001b[0;32mif\u001b[0m \u001b[0mtraceback\u001b[0m \u001b[0;34m==\u001b[0m \u001b[0mEllipsis\u001b[0m\u001b[0;34m:\u001b[0m\u001b[0;34m\u001b[0m\u001b[0;34m\u001b[0m\u001b[0m\n\u001b[1;32m    419\u001b[0m             \u001b[0m_\u001b[0m\u001b[0;34m,\u001b[0m \u001b[0m_\u001b[0m\u001b[0;34m,\u001b[0m \u001b[0mtraceback\u001b[0m \u001b[0;34m=\u001b[0m \u001b[0msys\u001b[0m\u001b[0;34m.\u001b[0m\u001b[0mexc_info\u001b[0m\u001b[0;34m(\u001b[0m\u001b[0;34m)\u001b[0m\u001b[0;34m\u001b[0m\u001b[0;34m\u001b[0m\u001b[0m\n\u001b[0;32m--> 420\u001b[0;31m         \u001b[0;32mraise\u001b[0m \u001b[0mexc\u001b[0m\u001b[0;34m.\u001b[0m\u001b[0mwith_traceback\u001b[0m\u001b[0;34m(\u001b[0m\u001b[0mtraceback\u001b[0m\u001b[0;34m)\u001b[0m\u001b[0;34m\u001b[0m\u001b[0;34m\u001b[0m\u001b[0m\n\u001b[0m\u001b[1;32m    421\u001b[0m \u001b[0;32melse\u001b[0m\u001b[0;34m:\u001b[0m\u001b[0;34m\u001b[0m\u001b[0;34m\u001b[0m\u001b[0m\n\u001b[1;32m    422\u001b[0m     \u001b[0;31m# this version of raise is a syntax error in Python 3\u001b[0m\u001b[0;34m\u001b[0m\u001b[0;34m\u001b[0m\u001b[0;34m\u001b[0m\u001b[0m\n",
      "\u001b[0;31mValueError\u001b[0m: No tables found"
     ]
    }
   ],
   "source": [
    "url = \"https://www.nasdaq.com/screening/companies-by-industry.aspx?exchange=NASDAQ&render=download\"\n",
    "# df = pd.read_csv(url, header=None, sep='\\n')\n",
    "# df = df[0].str.split('\\s\\|\\s', expand=True)\n",
    "df = pd.read_html(url)\n",
    "print (df[0])"
   ]
  },
  {
   "cell_type": "code",
   "execution_count": null,
   "metadata": {},
   "outputs": [],
   "source": []
  }
 ],
 "metadata": {
  "kernelspec": {
   "display_name": "Python 3",
   "language": "python",
   "name": "python3"
  },
  "language_info": {
   "codemirror_mode": {
    "name": "ipython",
    "version": 3
   },
   "file_extension": ".py",
   "mimetype": "text/x-python",
   "name": "python",
   "nbconvert_exporter": "python",
   "pygments_lexer": "ipython3",
   "version": "3.7.3"
  }
 },
 "nbformat": 4,
 "nbformat_minor": 2
}
